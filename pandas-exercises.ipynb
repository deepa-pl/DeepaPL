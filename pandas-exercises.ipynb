{
  "cells": [
    {
      "cell_type": "markdown",
      "metadata": {
        "id": "OC64bBKTvOyn"
      },
      "source": [
        "# Pandas Practice\n"
      ]
    },
    {
      "cell_type": "code",
      "execution_count": null,
      "metadata": {
        "id": "Wi4yR96OvOyp"
      },
      "outputs": [],
      "source": [
        "# Import pandas\n",
        "import pandas as p"
      ]
    },
    {
      "cell_type": "code",
      "execution_count": null,
      "metadata": {
        "id": "KO5ZD7nBvOyq"
      },
      "outputs": [],
      "source": [
        "# Create a series of three different colours\n",
        "colour = p.Series(['red', 'green', 'blue'])"
      ]
    },
    {
      "cell_type": "code",
      "execution_count": null,
      "metadata": {
        "id": "NMyvDQ61vOyq",
        "outputId": "608b178d-33d5-4619-d47a-66cb56cd2a28"
      },
      "outputs": [
        {
          "name": "stdout",
          "output_type": "stream",
          "text": [
            "0      red\n",
            "1    green\n",
            "2     blue\n",
            "dtype: object\n"
          ]
        }
      ],
      "source": [
        "# View the series of different colours\n",
        "print(colour)"
      ]
    },
    {
      "cell_type": "code",
      "execution_count": null,
      "metadata": {
        "id": "lc7jTUkDvOyr",
        "outputId": "f097f0ba-b237-4024-c54e-4426855cab43"
      },
      "outputs": [
        {
          "name": "stdout",
          "output_type": "stream",
          "text": [
            "0     honda\n",
            "1    toyota\n",
            "2       bmw\n",
            "dtype: object\n"
          ]
        }
      ],
      "source": [
        "# Create a series of three different car types and view it\n",
        "car = p.Series(['honda', 'toyota', 'bmw'])\n",
        "print(car)"
      ]
    },
    {
      "cell_type": "code",
      "execution_count": null,
      "metadata": {
        "id": "OC9mZI34vOyr",
        "outputId": "29d354b6-33cc-43fc-f270-fddb068db436"
      },
      "outputs": [
        {
          "name": "stdout",
          "output_type": "stream",
          "text": [
            "        0      1\n",
            "0   honda    red\n",
            "1  toyota  green\n",
            "2     bmw   blue\n"
          ]
        }
      ],
      "source": [
        "# Combine the Series of cars and colours into a DataFrame\n",
        "# comb = p.DataFrame(car.append(colour))\n",
        "comb = p.concat([car,colour],axis=1)\n",
        "print(comb)"
      ]
    },
    {
      "cell_type": "code",
      "execution_count": null,
      "metadata": {
        "id": "v0IMrwwbvOyr",
        "outputId": "d778603f-a47f-40bd-d1f0-870cc3dac541"
      },
      "outputs": [
        {
          "name": "stdout",
          "output_type": "stream",
          "text": [
            "     Make Colour  Odometer (KM)  Doors       Price\n",
            "0  Toyota  White         150043      4   $4,000.00\n",
            "1   Honda    Red          87899      4   $5,000.00\n",
            "2  Toyota   Blue          32549      3   $7,000.00\n",
            "3     BMW  Black          11179      5  $22,000.00\n",
            "4  Nissan  White         213095      4   $3,500.00\n",
            "5  Toyota  Green          99213      4   $4,500.00\n",
            "6   Honda   Blue          45698      4   $7,500.00\n",
            "7   Honda   Blue          54738      4   $7,000.00\n",
            "8  Toyota  White          60000      4   $6,250.00\n",
            "9  Nissan  White          31600      4   $9,700.00\n"
          ]
        }
      ],
      "source": [
        "# Import \"../data/car-sales.csv\" and turn it into a DataFrame\n",
        "data = p.read_csv('C:\\DeepaPL\\car-sales.csv')\n",
        "print(data.to_string()) "
      ]
    },
    {
      "cell_type": "markdown",
      "metadata": {
        "id": "qOtrGVttvOys"
      },
      "source": [
        "**Note:** Since you've imported `car-sales.csv` as a DataFrame, we'll now refer to this DataFrame as 'the car sales DataFrame'."
      ]
    },
    {
      "cell_type": "code",
      "execution_count": null,
      "metadata": {
        "id": "TSrQHNmdvOys"
      },
      "outputs": [],
      "source": [
        "# Export the DataFrame you created to a .csv file\n",
        "data.to_csv('newdata.csv')"
      ]
    },
    {
      "cell_type": "code",
      "execution_count": null,
      "metadata": {
        "id": "9DKsbF5SvOyt",
        "outputId": "098815b2-6b3c-46ff-f0fc-8236eacdaf6f"
      },
      "outputs": [
        {
          "name": "stdout",
          "output_type": "stream",
          "text": [
            "Make             object\n",
            "Colour           object\n",
            "Odometer (KM)     int64\n",
            "Doors             int64\n",
            "Price            object\n",
            "dtype: object\n"
          ]
        }
      ],
      "source": [
        "# Find the different datatypes of the car data DataFrame\n",
        "data_type = data.dtypes\n",
        "print(data_type)"
      ]
    },
    {
      "cell_type": "code",
      "execution_count": null,
      "metadata": {
        "id": "oeAlU-MPvOyu",
        "outputId": "ec2c5195-a365-439a-a912-b620279234e3"
      },
      "outputs": [
        {
          "data": {
            "text/html": [
              "<div>\n",
              "<style scoped>\n",
              "    .dataframe tbody tr th:only-of-type {\n",
              "        vertical-align: middle;\n",
              "    }\n",
              "\n",
              "    .dataframe tbody tr th {\n",
              "        vertical-align: top;\n",
              "    }\n",
              "\n",
              "    .dataframe thead th {\n",
              "        text-align: right;\n",
              "    }\n",
              "</style>\n",
              "<table border=\"1\" class=\"dataframe\">\n",
              "  <thead>\n",
              "    <tr style=\"text-align: right;\">\n",
              "      <th></th>\n",
              "      <th>Odometer (KM)</th>\n",
              "      <th>Doors</th>\n",
              "    </tr>\n",
              "  </thead>\n",
              "  <tbody>\n",
              "    <tr>\n",
              "      <th>count</th>\n",
              "      <td>10.000000</td>\n",
              "      <td>10.000000</td>\n",
              "    </tr>\n",
              "    <tr>\n",
              "      <th>mean</th>\n",
              "      <td>78601.400000</td>\n",
              "      <td>4.000000</td>\n",
              "    </tr>\n",
              "    <tr>\n",
              "      <th>std</th>\n",
              "      <td>61983.471735</td>\n",
              "      <td>0.471405</td>\n",
              "    </tr>\n",
              "    <tr>\n",
              "      <th>min</th>\n",
              "      <td>11179.000000</td>\n",
              "      <td>3.000000</td>\n",
              "    </tr>\n",
              "    <tr>\n",
              "      <th>25%</th>\n",
              "      <td>35836.250000</td>\n",
              "      <td>4.000000</td>\n",
              "    </tr>\n",
              "    <tr>\n",
              "      <th>50%</th>\n",
              "      <td>57369.000000</td>\n",
              "      <td>4.000000</td>\n",
              "    </tr>\n",
              "    <tr>\n",
              "      <th>75%</th>\n",
              "      <td>96384.500000</td>\n",
              "      <td>4.000000</td>\n",
              "    </tr>\n",
              "    <tr>\n",
              "      <th>max</th>\n",
              "      <td>213095.000000</td>\n",
              "      <td>5.000000</td>\n",
              "    </tr>\n",
              "  </tbody>\n",
              "</table>\n",
              "</div>"
            ],
            "text/plain": [
              "       Odometer (KM)      Doors\n",
              "count      10.000000  10.000000\n",
              "mean    78601.400000   4.000000\n",
              "std     61983.471735   0.471405\n",
              "min     11179.000000   3.000000\n",
              "25%     35836.250000   4.000000\n",
              "50%     57369.000000   4.000000\n",
              "75%     96384.500000   4.000000\n",
              "max    213095.000000   5.000000"
            ]
          },
          "execution_count": 9,
          "metadata": {},
          "output_type": "execute_result"
        }
      ],
      "source": [
        "# Describe your current car sales DataFrame using describe()\n",
        "data.describe()"
      ]
    },
    {
      "cell_type": "code",
      "execution_count": null,
      "metadata": {
        "id": "Qprs1tTyvOyu",
        "outputId": "1d2b62f6-e724-4339-87c3-eeb8e19dbd03"
      },
      "outputs": [
        {
          "name": "stdout",
          "output_type": "stream",
          "text": [
            "<class 'pandas.core.frame.DataFrame'>\n",
            "RangeIndex: 10 entries, 0 to 9\n",
            "Data columns (total 5 columns):\n",
            " #   Column         Non-Null Count  Dtype \n",
            "---  ------         --------------  ----- \n",
            " 0   Make           10 non-null     object\n",
            " 1   Colour         10 non-null     object\n",
            " 2   Odometer (KM)  10 non-null     int64 \n",
            " 3   Doors          10 non-null     int64 \n",
            " 4   Price          10 non-null     object\n",
            "dtypes: int64(2), object(3)\n",
            "memory usage: 528.0+ bytes\n"
          ]
        }
      ],
      "source": [
        "# Get information about your DataFrame using info()\n",
        "data.info()"
      ]
    },
    {
      "cell_type": "markdown",
      "metadata": {
        "id": "Nn9LXnS7vOyv"
      },
      "source": [
        "What does it show you?"
      ]
    },
    {
      "cell_type": "code",
      "execution_count": null,
      "metadata": {
        "id": "vvJ034LfvOyv",
        "outputId": "5b44a27c-f27b-4fc3-8556-ced7cfb2748b"
      },
      "outputs": [
        {
          "name": "stdout",
          "output_type": "stream",
          "text": [
            "0     1\n",
            "1     2\n",
            "2     3\n",
            "3     4\n",
            "4     5\n",
            "5     6\n",
            "6     7\n",
            "7     8\n",
            "8     9\n",
            "9    10\n",
            "dtype: int64\n",
            "5.5\n"
          ]
        }
      ],
      "source": [
        "# Create a Series of different numbers and find the mean of them\n",
        "num = p.Series([1,2,3,4,5,6,7,8,9,10])\n",
        "print(num)\n",
        "print(p.Series.mean(num))"
      ]
    },
    {
      "cell_type": "code",
      "execution_count": null,
      "metadata": {
        "id": "E-DwWvvdvOyv",
        "outputId": "7cb50bda-1d4b-4122-c66f-b6874c144e6c"
      },
      "outputs": [
        {
          "name": "stdout",
          "output_type": "stream",
          "text": [
            "0     1\n",
            "1     2\n",
            "2     3\n",
            "3     4\n",
            "4     5\n",
            "5     6\n",
            "6     7\n",
            "7     8\n",
            "8     9\n",
            "9    10\n",
            "dtype: int64\n",
            "55\n"
          ]
        }
      ],
      "source": [
        "# Create a Series of different numbers and find the sum of them\n",
        "num = p.Series([1,2,3,4,5,6,7,8,9,10])\n",
        "print(num)\n",
        "print(p.Series.sum(num))"
      ]
    },
    {
      "cell_type": "code",
      "execution_count": null,
      "metadata": {
        "id": "Oh7zL28WvOyw",
        "outputId": "0e213da5-d8c9-4397-ec56-06a7d4d21961"
      },
      "outputs": [
        {
          "name": "stdout",
          "output_type": "stream",
          "text": [
            "['Make', 'Colour', 'Odometer (KM)', 'Doors', 'Price']\n"
          ]
        }
      ],
      "source": [
        "# List out all the column names of the car sales DataFrame\n",
        "col = data.columns.values.tolist()\n",
        "print(col)"
      ]
    },
    {
      "cell_type": "code",
      "execution_count": null,
      "metadata": {
        "id": "sU0r-tiivOyw",
        "outputId": "3e3c780e-e6b8-4593-d8b1-75f75c6519a5"
      },
      "outputs": [
        {
          "name": "stdout",
          "output_type": "stream",
          "text": [
            "10\n"
          ]
        }
      ],
      "source": [
        "# Find the length of the car sales DataFrame\n",
        "length = len(data)\n",
        "print(length)"
      ]
    },
    {
      "cell_type": "code",
      "execution_count": null,
      "metadata": {
        "id": "a3cb5GnjvOyx",
        "outputId": "9378da2d-5f1c-4e71-937e-e16b1642bed3"
      },
      "outputs": [
        {
          "name": "stdout",
          "output_type": "stream",
          "text": [
            "     Make Colour  Odometer (KM)  Doors       Price\n",
            "0  Toyota  White         150043      4   $4,000.00\n",
            "1   Honda    Red          87899      4   $5,000.00\n",
            "2  Toyota   Blue          32549      3   $7,000.00\n",
            "3     BMW  Black          11179      5  $22,000.00\n",
            "4  Nissan  White         213095      4   $3,500.00\n"
          ]
        }
      ],
      "source": [
        "# Show the first 5 rows of the car sales DataFrame\n",
        "first5 = data.head(5)\n",
        "print(first5)"
      ]
    },
    {
      "cell_type": "code",
      "execution_count": null,
      "metadata": {
        "id": "PkMWq4savOyx",
        "outputId": "84844b7a-5260-4fce-b5cf-3ba5713033b1"
      },
      "outputs": [
        {
          "name": "stdout",
          "output_type": "stream",
          "text": [
            "     Make Colour  Odometer (KM)  Doors       Price\n",
            "0  Toyota  White         150043      4   $4,000.00\n",
            "1   Honda    Red          87899      4   $5,000.00\n",
            "2  Toyota   Blue          32549      3   $7,000.00\n",
            "3     BMW  Black          11179      5  $22,000.00\n",
            "4  Nissan  White         213095      4   $3,500.00\n",
            "5  Toyota  Green          99213      4   $4,500.00\n",
            "6   Honda   Blue          45698      4   $7,500.00\n"
          ]
        }
      ],
      "source": [
        "# Show the first 7 rows of the car sales DataFrame\n",
        "first7 = data.head(7)\n",
        "print(first7)"
      ]
    },
    {
      "cell_type": "code",
      "execution_count": null,
      "metadata": {
        "id": "BJz-xgT-vOyx",
        "outputId": "740a286c-99f8-4d66-bd14-cab81b72bc1c"
      },
      "outputs": [
        {
          "name": "stdout",
          "output_type": "stream",
          "text": [
            "     Make Colour  Odometer (KM)  Doors      Price\n",
            "5  Toyota  Green          99213      4  $4,500.00\n",
            "6   Honda   Blue          45698      4  $7,500.00\n",
            "7   Honda   Blue          54738      4  $7,000.00\n",
            "8  Toyota  White          60000      4  $6,250.00\n",
            "9  Nissan  White          31600      4  $9,700.00\n"
          ]
        }
      ],
      "source": [
        "# Show the bottom 5 rows of the car sales DataFrame\n",
        "last5 = data.tail(5)\n",
        "print(last5)"
      ]
    },
    {
      "cell_type": "code",
      "execution_count": null,
      "metadata": {
        "id": "fG1NpwCcvOyx",
        "outputId": "5df50211-fa64-4ce0-db07-0a528348a741"
      },
      "outputs": [
        {
          "name": "stdout",
          "output_type": "stream",
          "text": [
            "Make                Toyota\n",
            "Colour                Blue\n",
            "Odometer (KM)        32549\n",
            "Doors                    3\n",
            "Price            $7,000.00\n",
            "Name: 2, dtype: object\n"
          ]
        }
      ],
      "source": [
        "# Use .loc to select the row at index 3 of the car sales DataFrame\n",
        "row3 = data.loc[2]\n",
        "print(row3)"
      ]
    },
    {
      "cell_type": "code",
      "execution_count": null,
      "metadata": {
        "id": "CIhJypkpvOyx",
        "outputId": "33cf02c0-28ad-452b-81a9-44b1b7dac98b"
      },
      "outputs": [
        {
          "name": "stdout",
          "output_type": "stream",
          "text": [
            "Make                Toyota\n",
            "Colour                Blue\n",
            "Odometer (KM)        32549\n",
            "Doors                    3\n",
            "Price            $7,000.00\n",
            "Name: 2, dtype: object\n"
          ]
        }
      ],
      "source": [
        "# Use .iloc to select the row at position 3 of the car sales DataFrame\n",
        "row3i = data.iloc[2]\n",
        "print(row3i)"
      ]
    },
    {
      "cell_type": "markdown",
      "metadata": {
        "id": "o5-7eSTJvOyx"
      },
      "source": [
        "Notice how they're the same? Why do you think this is? \n",
        "\n",
        "Check the pandas documentation for [.loc](https://pandas.pydata.org/pandas-docs/stable/reference/api/pandas.DataFrame.loc.html) and [.iloc](https://pandas.pydata.org/pandas-docs/stable/reference/api/pandas.DataFrame.iloc.html). Think about a different situation each could be used for and try them out."
      ]
    },
    {
      "cell_type": "code",
      "execution_count": null,
      "metadata": {
        "id": "jnCF0ZlfvOyy",
        "outputId": "abdf31f3-3ae3-410a-e504-a9c254055922"
      },
      "outputs": [
        {
          "name": "stdout",
          "output_type": "stream",
          "text": [
            "0    150043\n",
            "1     87899\n",
            "2     32549\n",
            "3     11179\n",
            "4    213095\n",
            "5     99213\n",
            "6     45698\n",
            "7     54738\n",
            "8     60000\n",
            "9     31600\n",
            "Name: Odometer (KM), dtype: int64\n"
          ]
        }
      ],
      "source": [
        "# Select the \"Odometer (KM)\" column from the car sales DataFrame\n",
        "col = data.columns.values.tolist()\n",
        "out_col = data[\"Odometer (KM)\"]\n",
        "print(out_col)"
      ]
    },
    {
      "cell_type": "code",
      "execution_count": null,
      "metadata": {
        "id": "xT4GGJHhvOyy",
        "outputId": "abf17944-b710-41e5-9ee5-ae7504d03d54"
      },
      "outputs": [
        {
          "name": "stdout",
          "output_type": "stream",
          "text": [
            "78601.4\n"
          ]
        }
      ],
      "source": [
        "# Find the mean of the \"Odometer (KM)\" column in the car sales DataFrame\n",
        "avg = p.Series.mean(out_col)\n",
        "print(avg)"
      ]
    },
    {
      "cell_type": "code",
      "execution_count": null,
      "metadata": {
        "id": "xq8nkPj8vOyy",
        "outputId": "f92bcf1b-e334-4c9e-fc5e-500fdfa3e34b"
      },
      "outputs": [
        {
          "name": "stdout",
          "output_type": "stream",
          "text": [
            "     Make Colour  Odometer (KM)  Doors      Price\n",
            "0  Toyota  White         150043      4  $4,000.00\n",
            "4  Nissan  White         213095      4  $3,500.00\n"
          ]
        }
      ],
      "source": [
        "# Select the rows with over 100,000 kilometers on the Odometer\n",
        "cond = data['Odometer (KM)'] > 100000\n",
        "sel_row = p.DataFrame(data[cond])\n",
        " \n",
        "print(sel_row)"
      ]
    },
    {
      "cell_type": "code",
      "execution_count": null,
      "metadata": {
        "id": "hewGY9tDvOyy",
        "outputId": "90ed4a9c-8f83-48d6-bcc2-8edf2848c4a0"
      },
      "outputs": [
        {
          "name": "stdout",
          "output_type": "stream",
          "text": [
            "Doors   3  4  5\n",
            "Make           \n",
            "BMW     0  0  1\n",
            "Honda   0  3  0\n",
            "Nissan  0  2  0\n",
            "Toyota  1  3  0\n"
          ]
        }
      ],
      "source": [
        "# Create a crosstab of the Make and Doors columns\n",
        "ct = p.crosstab(data.Make, data.Doors)\n",
        "print(ct)"
      ]
    },
    {
      "cell_type": "code",
      "execution_count": null,
      "metadata": {
        "id": "8ocBJh84vOyz",
        "outputId": "ab00ed80-fa9c-40a3-ef3c-685d933bee97"
      },
      "outputs": [
        {
          "name": "stdout",
          "output_type": "stream",
          "text": [
            "        Odometer (KM)  Doors\n",
            "Make                        \n",
            "BMW      11179.000000   5.00\n",
            "Honda    62778.333333   4.00\n",
            "Nissan  122347.500000   4.00\n",
            "Toyota   85451.250000   3.75\n"
          ]
        },
        {
          "name": "stderr",
          "output_type": "stream",
          "text": [
            "C:\\Users\\DELL\\AppData\\Local\\Temp\\ipykernel_7772\\1687522268.py:2: FutureWarning: Indexing with multiple keys (implicitly converted to a tuple of keys) will be deprecated, use a list instead.\n",
            "  avg_gp = data.groupby('Make')['Odometer (KM)','Doors','Price'].mean()\n",
            "C:\\Users\\DELL\\AppData\\Local\\Temp\\ipykernel_7772\\1687522268.py:2: FutureWarning: The default value of numeric_only in DataFrameGroupBy.mean is deprecated. In a future version, numeric_only will default to False. Either specify numeric_only or select only columns which should be valid for the function.\n",
            "  avg_gp = data.groupby('Make')['Odometer (KM)','Doors','Price'].mean()\n"
          ]
        }
      ],
      "source": [
        "# Group columns of the car sales DataFrame by the Make column and find the average\n",
        "avg_gp = data.groupby('Make')['Odometer (KM)','Doors','Price'].mean()\n",
        "print(avg_gp)"
      ]
    },
    {
      "cell_type": "code",
      "execution_count": null,
      "metadata": {
        "id": "wSB2ZgaivOyz",
        "outputId": "cc43a7f3-56a3-41b5-d606-286bbabe2d98"
      },
      "outputs": [
        {
          "data": {
            "text/plain": [
              "<AxesSubplot: xlabel='Odometer (KM)'>"
            ]
          },
          "execution_count": 39,
          "metadata": {},
          "output_type": "execute_result"
        },
        {
          "data": {
            "image/png": "[encoded data removed]",
            "text/plain": [
              "<Figure size 640x480 with 1 Axes>"
            ]
          },
          "metadata": {},
          "output_type": "display_data"
        }
      ],
      "source": [
        "# Import Matplotlib and create a plot of the Odometer column\n",
        "# Don't forget to use %matplotlib inline\n",
        "import matplotlib.pyplot as plt\n",
        "data.plot(\"Odometer (KM)\", kind=\"bar\")"
      ]
    },
    {
      "cell_type": "code",
      "execution_count": null,
      "metadata": {
        "id": "F6LJDr4QvOyz",
        "outputId": "fece3adf-ba23-4f99-e3fd-278c020dfae8"
      },
      "outputs": [
        {
          "data": {
            "text/plain": [
              "(array([0., 0., 0., 0., 0., 1., 0., 0., 0., 0.]),\n",
              " array([-0.5, -0.4, -0.3, -0.2, -0.1,  0. ,  0.1,  0.2,  0.3,  0.4,  0.5]),\n",
              " <BarContainer object of 10 artists>)"
            ]
          },
          "execution_count": 40,
          "metadata": {},
          "output_type": "execute_result"
        },
        {
          "data": {
            "image/png": "[encoded data removed]",
            "text/plain": [
              "<Figure size 640x480 with 1 Axes>"
            ]
          },
          "metadata": {},
          "output_type": "display_data"
        }
      ],
      "source": [
        "# Create a histogram of the Odometer column using hist()\n",
        "plt.hist('Odometer (KM)')"
      ]
    },
    {
      "cell_type": "code",
      "execution_count": null,
      "metadata": {
        "id": "musOYJnJvOyz",
        "outputId": "470e8711-adcb-4b84-9b57-195e7970b0b7"
      },
      "outputs": [
        {
          "data": {
            "text/plain": [
              "<AxesSubplot: xlabel='Price'>"
            ]
          },
          "execution_count": 42,
          "metadata": {},
          "output_type": "execute_result"
        },
        {
          "data": {
            "image/png": "[encoded data removed]",
            "text/plain": [
              "<Figure size 640x480 with 1 Axes>"
            ]
          },
          "metadata": {},
          "output_type": "display_data"
        }
      ],
      "source": [
        "# Try to plot the Price column using plot()\n",
        "data.plot(\"Price\", kind=\"bar\")"
      ]
    },
    {
      "cell_type": "markdown",
      "metadata": {
        "id": "xJ1rzsH6vOy0"
      },
      "source": [
        "Why didn't it work? Can you think of a solution?"
      ]
    },
    {
      "cell_type": "code",
      "execution_count": null,
      "metadata": {
        "id": "wNQwbtv1vOy0",
        "outputId": "6a0a928d-c3c7-44f7-c1ec-75e599abde17"
      },
      "outputs": [
        {
          "name": "stderr",
          "output_type": "stream",
          "text": [
            "C:\\Users\\DELL\\AppData\\Local\\Temp\\ipykernel_7772\\811769596.py:2: FutureWarning: The default value of regex will change from True to False in a future version.\n",
            "  data['Price'] = data['Price'].str.replace(r'[$\\,]+', '')\n"
          ]
        }
      ],
      "source": [
        "# Remove the punctuation from price column\n",
        "data['Price'] = data['Price'].str.replace(r'[$\\,]+', '')"
      ]
    },
    {
      "cell_type": "code",
      "execution_count": null,
      "metadata": {
        "id": "cmhjLaIivOy0",
        "outputId": "98799d93-797d-488c-d803-b71c33b043b8"
      },
      "outputs": [
        {
          "name": "stdout",
          "output_type": "stream",
          "text": [
            "     Make Colour  Odometer (KM)  Doors     Price\n",
            "0  Toyota  White         150043      4   4000.00\n",
            "1   Honda    Red          87899      4   5000.00\n",
            "2  Toyota   Blue          32549      3   7000.00\n",
            "3     BMW  Black          11179      5  22000.00\n",
            "4  Nissan  White         213095      4   3500.00\n",
            "5  Toyota  Green          99213      4   4500.00\n",
            "6   Honda   Blue          45698      4   7500.00\n",
            "7   Honda   Blue          54738      4   7000.00\n",
            "8  Toyota  White          60000      4   6250.00\n",
            "9  Nissan  White          31600      4   9700.00\n"
          ]
        }
      ],
      "source": [
        "# Check the changes to the price column\n",
        "print(data)"
      ]
    },
    {
      "cell_type": "code",
      "execution_count": null,
      "metadata": {
        "id": "sLqCPZMEvOy1",
        "outputId": "ee0bec9b-1b36-4160-9e24-386a97b69922"
      },
      "outputs": [
        {
          "name": "stderr",
          "output_type": "stream",
          "text": [
            "C:\\Users\\DELL\\AppData\\Local\\Temp\\ipykernel_7772\\2771758223.py:2: FutureWarning: The default value of regex will change from True to False in a future version.\n",
            "  data['Price'] = data['Price'].str.replace('.00', '')\n"
          ]
        }
      ],
      "source": [
        "# Remove the two extra zeros at the end of the price column\n",
        "data['Price'] = data['Price'].str.replace('.00', '')"
      ]
    },
    {
      "cell_type": "code",
      "execution_count": null,
      "metadata": {
        "id": "IUh78BGEvOy1",
        "outputId": "2e13b540-1552-43b8-e702-5eaa061751ad"
      },
      "outputs": [
        {
          "name": "stdout",
          "output_type": "stream",
          "text": [
            "     Make Colour  Odometer (KM)  Doors Price\n",
            "0  Toyota  White         150043      4     0\n",
            "1   Honda    Red          87899      4     0\n",
            "2  Toyota   Blue          32549      3     0\n",
            "3     BMW  Black          11179      5    20\n",
            "4  Nissan  White         213095      4     3\n",
            "5  Toyota  Green          99213      4     4\n",
            "6   Honda   Blue          45698      4     7\n",
            "7   Honda   Blue          54738      4     0\n",
            "8  Toyota  White          60000      4  6250\n",
            "9  Nissan  White          31600      4     9\n"
          ]
        }
      ],
      "source": [
        "# Check the changes to the Price column\n",
        "print(data)"
      ]
    },
    {
      "cell_type": "code",
      "execution_count": null,
      "metadata": {
        "id": "RmZa1NWXvOy1"
      },
      "outputs": [],
      "source": [
        "# Change the datatype of the Price column to integers\n"
      ]
    },
    {
      "cell_type": "code",
      "execution_count": null,
      "metadata": {
        "id": "01KA4kQOvOy1"
      },
      "outputs": [],
      "source": [
        "# Lower the strings of the Make column\n"
      ]
    },
    {
      "cell_type": "markdown",
      "metadata": {
        "id": "8tjiB6i-vOy2"
      },
      "source": [
        "If you check the car sales DataFrame, you'll notice the Make column hasn't been lowered.\n",
        "\n",
        "How could you make these changes permanent?\n",
        "\n",
        "Try it out."
      ]
    },
    {
      "cell_type": "code",
      "execution_count": null,
      "metadata": {
        "id": "gO5X9VzpvOy2"
      },
      "outputs": [],
      "source": [
        "# Make lowering the case of the Make column permanent\n"
      ]
    },
    {
      "cell_type": "code",
      "execution_count": null,
      "metadata": {
        "id": "gv0zxuilvOy2"
      },
      "outputs": [],
      "source": [
        "# Check the car sales DataFrame\n"
      ]
    },
    {
      "cell_type": "markdown",
      "metadata": {
        "id": "a7xE2IY4vOy2"
      },
      "source": [
        "Notice how the Make column stays lowered after reassigning.\n",
        "\n",
        "Now let's deal with missing data."
      ]
    },
    {
      "cell_type": "code",
      "execution_count": null,
      "metadata": {
        "id": "n7Nbt0YRvOy2"
      },
      "outputs": [],
      "source": [
        "# Import the car sales DataFrame with missing data (\"../data/car-sales-missing-data.csv\")\n",
        "\n",
        "\n",
        "# Check out the new DataFrame\n"
      ]
    },
    {
      "cell_type": "markdown",
      "metadata": {
        "id": "d-2Uo_TBvOy2"
      },
      "source": [
        "Notice the missing values are represented as `NaN` in pandas DataFrames.\n",
        "\n",
        "Let's try fill them."
      ]
    },
    {
      "cell_type": "code",
      "execution_count": null,
      "metadata": {
        "id": "rdcG6UlrvOy2"
      },
      "outputs": [],
      "source": [
        "# Fill the Odometer column missing values with the mean of the column inplace\n"
      ]
    },
    {
      "cell_type": "code",
      "execution_count": null,
      "metadata": {
        "id": "HhfYB-T0vOy2"
      },
      "outputs": [],
      "source": [
        "# View the car sales missing DataFrame and verify the changes\n"
      ]
    },
    {
      "cell_type": "code",
      "execution_count": null,
      "metadata": {
        "id": "hVqzLW7ovOy2"
      },
      "outputs": [],
      "source": [
        "# Remove the rest of the missing data inplace\n"
      ]
    },
    {
      "cell_type": "code",
      "execution_count": null,
      "metadata": {
        "id": "BeS_an9HvOy3"
      },
      "outputs": [],
      "source": [
        "# Verify the missing values are removed by viewing the DataFrame\n"
      ]
    },
    {
      "cell_type": "markdown",
      "metadata": {
        "id": "QkrTmNmyvOy3"
      },
      "source": [
        "We'll now start to add columns to our DataFrame."
      ]
    },
    {
      "cell_type": "code",
      "execution_count": null,
      "metadata": {
        "id": "hRr_uyj4vOy3"
      },
      "outputs": [],
      "source": [
        "# Create a \"Seats\" column where every row has a value of 5\n"
      ]
    },
    {
      "cell_type": "code",
      "execution_count": null,
      "metadata": {
        "id": "V_JXX66LvOy3"
      },
      "outputs": [],
      "source": [
        "# Create a column called \"Engine Size\" with random values between 1.3 and 4.5\n",
        "# Remember: If you're doing it from a Python list, the list has to be the same length\n",
        "# as the DataFrame\n"
      ]
    },
    {
      "cell_type": "code",
      "execution_count": null,
      "metadata": {
        "id": "0dtwJg83vOy3"
      },
      "outputs": [],
      "source": [
        "# Create a column which represents the price of a car per kilometer\n",
        "# Then view the DataFrame\n"
      ]
    },
    {
      "cell_type": "code",
      "execution_count": null,
      "metadata": {
        "id": "1CLTTrtIvOy4"
      },
      "outputs": [],
      "source": [
        "# Remove the last column you added using .drop()\n"
      ]
    },
    {
      "cell_type": "code",
      "execution_count": null,
      "metadata": {
        "id": "eh4toYSgvOy4"
      },
      "outputs": [],
      "source": [
        "# Shuffle the DataFrame using sample() with the frac parameter set to 1\n",
        "# Save the the shuffled DataFrame to a new variable\n"
      ]
    },
    {
      "cell_type": "markdown",
      "metadata": {
        "id": "RfULKDcNvOy4"
      },
      "source": [
        "Notice how the index numbers get moved around. The [`sample()`](https://pandas.pydata.org/pandas-docs/stable/reference/api/pandas.DataFrame.sample.html) function is a great way to get random samples from your DataFrame. It's also another great way to shuffle the rows by setting `frac=1`."
      ]
    },
    {
      "cell_type": "code",
      "execution_count": null,
      "metadata": {
        "id": "rjK7CLoBvOy4"
      },
      "outputs": [],
      "source": [
        "# Reset the indexes of the shuffled DataFrame\n"
      ]
    },
    {
      "cell_type": "markdown",
      "metadata": {
        "id": "NBy7EBUhvOy5"
      },
      "source": [
        "Notice the index numbers have been changed to have order (start from 0)."
      ]
    },
    {
      "cell_type": "code",
      "execution_count": null,
      "metadata": {
        "id": "UdzLgSLPvOy5"
      },
      "outputs": [],
      "source": [
        "# Change the Odometer values from kilometers to miles using a Lambda function\n",
        "# Then view the DataFrame\n"
      ]
    },
    {
      "cell_type": "code",
      "execution_count": null,
      "metadata": {
        "id": "zkbgeWbxvOy5"
      },
      "outputs": [],
      "source": [
        "# Change the title of the Odometer (KM) to represent miles instead of kilometers\n"
      ]
    }
  ],
  "metadata": {
    "kernelspec": {
      "display_name": "Python 3 (ipykernel)",
      "language": "python",
      "name": "python3"
    },
    "language_info": {
      "codemirror_mode": {
        "name": "ipython",
        "version": 3
      },
      "file_extension": ".py",
      "mimetype": "text/x-python",
      "name": "python",
      "nbconvert_exporter": "python",
      "pygments_lexer": "ipython3",
      "version": "3.10.9"
    },
    "colab": {
      "provenance": []
    }
  },
  "nbformat": 4,
  "nbformat_minor": 0
}