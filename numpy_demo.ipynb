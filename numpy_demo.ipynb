{
 "cells": [
  {
   "cell_type": "code",
   "execution_count": 50,
   "id": "d674810a",
   "metadata": {},
   "outputs": [],
   "source": [
    "import numpy as np\n",
    "import pandas as pd"
   ]
  },
  {
   "cell_type": "code",
   "execution_count": 22,
   "id": "649e84a3",
   "metadata": {},
   "outputs": [
    {
     "data": {
      "text/plain": [
       "array([1, 2, 3])"
      ]
     },
     "execution_count": 22,
     "metadata": {},
     "output_type": "execute_result"
    }
   ],
   "source": [
    "a1 = np.array([1,2,3]) #1D\n",
    "a1"
   ]
  },
  {
   "cell_type": "code",
   "execution_count": 23,
   "id": "8dcaea08",
   "metadata": {},
   "outputs": [
    {
     "data": {
      "text/plain": [
       "array([[1, 2, 3],\n",
       "       [4, 5, 6]])"
      ]
     },
     "execution_count": 23,
     "metadata": {},
     "output_type": "execute_result"
    }
   ],
   "source": [
    "a2 = np.array([[1,2,3],[4,5,6]]) #2D\n",
    "a2"
   ]
  },
  {
   "cell_type": "code",
   "execution_count": 43,
   "id": "01ed5bda",
   "metadata": {},
   "outputs": [
    {
     "data": {
      "text/plain": [
       "array([[[ 1. ,  2. ,  3.5],\n",
       "        [ 4. ,  5. ,  6. ]],\n",
       "\n",
       "       [[ 7. ,  8. ,  9. ],\n",
       "        [10. , 11. , 12. ]],\n",
       "\n",
       "       [[13. , 14. , 15. ],\n",
       "        [16. , 17. , 18. ]]])"
      ]
     },
     "execution_count": 43,
     "metadata": {},
     "output_type": "execute_result"
    }
   ],
   "source": [
    "a3 = np.array([[[1,2,3.5],[4,5,6]],[[7,8,9],[10,11,12]],[[13,14,15],[16,17,18]]]) #3D\n",
    "a3"
   ]
  },
  {
   "cell_type": "code",
   "execution_count": 29,
   "id": "a570b57d",
   "metadata": {},
   "outputs": [
    {
     "data": {
      "text/plain": [
       "(3,)"
      ]
     },
     "execution_count": 29,
     "metadata": {},
     "output_type": "execute_result"
    }
   ],
   "source": [
    "a1.shape # numpy always consider single array as a column vector"
   ]
  },
  {
   "cell_type": "code",
   "execution_count": 30,
   "id": "d2d85e1a",
   "metadata": {},
   "outputs": [
    {
     "data": {
      "text/plain": [
       "(2, 3)"
      ]
     },
     "execution_count": 30,
     "metadata": {},
     "output_type": "execute_result"
    }
   ],
   "source": [
    "a2.shape"
   ]
  },
  {
   "cell_type": "code",
   "execution_count": 31,
   "id": "85932b26",
   "metadata": {},
   "outputs": [
    {
     "data": {
      "text/plain": [
       "(3, 2, 3)"
      ]
     },
     "execution_count": 31,
     "metadata": {},
     "output_type": "execute_result"
    }
   ],
   "source": [
    "a3.shape"
   ]
  },
  {
   "cell_type": "code",
   "execution_count": 44,
   "id": "062237eb",
   "metadata": {},
   "outputs": [
    {
     "data": {
      "text/plain": [
       "15.0"
      ]
     },
     "execution_count": 44,
     "metadata": {},
     "output_type": "execute_result"
    }
   ],
   "source": [
    "a3[2,0,2]"
   ]
  },
  {
   "cell_type": "code",
   "execution_count": 45,
   "id": "c9c76268",
   "metadata": {},
   "outputs": [
    {
     "data": {
      "text/plain": [
       "(1, 2, 3)"
      ]
     },
     "execution_count": 45,
     "metadata": {},
     "output_type": "execute_result"
    }
   ],
   "source": [
    "a1.ndim, a2.ndim, a3.ndim"
   ]
  },
  {
   "cell_type": "code",
   "execution_count": 48,
   "id": "33711465",
   "metadata": {},
   "outputs": [
    {
     "data": {
      "text/plain": [
       "(dtype('int64'), dtype('int64'), dtype('float64'))"
      ]
     },
     "execution_count": 48,
     "metadata": {},
     "output_type": "execute_result"
    }
   ],
   "source": [
    "a1.dtype, a2.dtype, a3.dtype"
   ]
  },
  {
   "cell_type": "code",
   "execution_count": 49,
   "id": "e850cf8f",
   "metadata": {},
   "outputs": [
    {
     "data": {
      "text/plain": [
       "numpy.ndarray"
      ]
     },
     "execution_count": 49,
     "metadata": {},
     "output_type": "execute_result"
    }
   ],
   "source": [
    "type(a1)"
   ]
  },
  {
   "cell_type": "code",
   "execution_count": 54,
   "id": "fd9ba608",
   "metadata": {},
   "outputs": [
    {
     "data": {
      "text/plain": [
       "[2, 3, 1]"
      ]
     },
     "execution_count": 54,
     "metadata": {},
     "output_type": "execute_result"
    }
   ],
   "source": [
    "test = [2,3,1]\n",
    "test"
   ]
  },
  {
   "cell_type": "code",
   "execution_count": 55,
   "id": "e80abc6b",
   "metadata": {},
   "outputs": [
    {
     "data": {
      "text/plain": [
       "list"
      ]
     },
     "execution_count": 55,
     "metadata": {},
     "output_type": "execute_result"
    }
   ],
   "source": [
    "type(test)"
   ]
  },
  {
   "cell_type": "code",
   "execution_count": 111,
   "id": "1cffa947",
   "metadata": {},
   "outputs": [
    {
     "data": {
      "text/plain": [
       "array([[5, 0, 3],\n",
       "       [3, 7, 9]])"
      ]
     },
     "execution_count": 111,
     "metadata": {},
     "output_type": "execute_result"
    }
   ],
   "source": [
    "np.random.seed(0) # random values generating by randint won't change after the first execution\n",
    "np_array1 = np.random.randint(10,size=(2,3))\n",
    "np_array1"
   ]
  },
  {
   "cell_type": "code",
   "execution_count": 112,
   "id": "f20c3c73",
   "metadata": {},
   "outputs": [
    {
     "data": {
      "text/plain": [
       "array([5, 0, 3])"
      ]
     },
     "execution_count": 112,
     "metadata": {},
     "output_type": "execute_result"
    }
   ],
   "source": [
    "np_array1[0,:]"
   ]
  },
  {
   "cell_type": "code",
   "execution_count": 113,
   "id": "2c2638da",
   "metadata": {},
   "outputs": [
    {
     "data": {
      "text/plain": [
       "array([[7, 9]])"
      ]
     },
     "execution_count": 113,
     "metadata": {},
     "output_type": "execute_result"
    }
   ],
   "source": [
    "np_array1[1:3,1:3] # submatrix, m:n will extract elements from m to n-1"
   ]
  },
  {
   "cell_type": "code",
   "execution_count": 116,
   "id": "3cf832c6",
   "metadata": {},
   "outputs": [
    {
     "data": {
      "text/plain": [
       "array([[ 6,  2,  6],\n",
       "       [ 7, 12, 15]])"
      ]
     },
     "execution_count": 116,
     "metadata": {},
     "output_type": "execute_result"
    }
   ],
   "source": [
    "a2 + np_array1"
   ]
  },
  {
   "cell_type": "code",
   "execution_count": 118,
   "id": "57bd2ffb",
   "metadata": {},
   "outputs": [
    {
     "data": {
      "text/plain": [
       "1"
      ]
     },
     "execution_count": 118,
     "metadata": {},
     "output_type": "execute_result"
    }
   ],
   "source": [
    "5 // 2 # equals 2\n",
    "5 / 2 # equals 2.5\n",
    "5 % 2 # equals reminder"
   ]
  },
  {
   "cell_type": "code",
   "execution_count": 119,
   "id": "5b91505a",
   "metadata": {},
   "outputs": [
    {
     "data": {
      "text/plain": [
       "array([[1, 4],\n",
       "       [2, 5],\n",
       "       [3, 6]])"
      ]
     },
     "execution_count": 119,
     "metadata": {},
     "output_type": "execute_result"
    }
   ],
   "source": [
    "a2.T # transpose of a matrix"
   ]
  },
  {
   "cell_type": "code",
   "execution_count": 90,
   "id": "fa3375dd",
   "metadata": {},
   "outputs": [
    {
     "data": {
      "text/plain": [
       "array([[5, 8, 9],\n",
       "       [5, 0, 0],\n",
       "       [1, 7, 6],\n",
       "       [9, 2, 4],\n",
       "       [5, 2, 4]])"
      ]
     },
     "execution_count": 90,
     "metadata": {},
     "output_type": "execute_result"
    }
   ],
   "source": [
    "np.random.seed(1) # random values generating by randint won't change after the first execution\n",
    "np_array2 = np.random.randint(10,size=(5,3))\n",
    "np_array2"
   ]
  },
  {
   "cell_type": "code",
   "execution_count": 91,
   "id": "5a5f87c6",
   "metadata": {},
   "outputs": [
    {
     "data": {
      "text/html": [
       "<div>\n",
       "<style scoped>\n",
       "    .dataframe tbody tr th:only-of-type {\n",
       "        vertical-align: middle;\n",
       "    }\n",
       "\n",
       "    .dataframe tbody tr th {\n",
       "        vertical-align: top;\n",
       "    }\n",
       "\n",
       "    .dataframe thead th {\n",
       "        text-align: right;\n",
       "    }\n",
       "</style>\n",
       "<table border=\"1\" class=\"dataframe\">\n",
       "  <thead>\n",
       "    <tr style=\"text-align: right;\">\n",
       "      <th></th>\n",
       "      <th>x</th>\n",
       "      <th>y</th>\n",
       "      <th>z</th>\n",
       "    </tr>\n",
       "  </thead>\n",
       "  <tbody>\n",
       "    <tr>\n",
       "      <th>0</th>\n",
       "      <td>5</td>\n",
       "      <td>0</td>\n",
       "      <td>3</td>\n",
       "    </tr>\n",
       "    <tr>\n",
       "      <th>1</th>\n",
       "      <td>3</td>\n",
       "      <td>7</td>\n",
       "      <td>9</td>\n",
       "    </tr>\n",
       "    <tr>\n",
       "      <th>2</th>\n",
       "      <td>3</td>\n",
       "      <td>5</td>\n",
       "      <td>2</td>\n",
       "    </tr>\n",
       "    <tr>\n",
       "      <th>3</th>\n",
       "      <td>4</td>\n",
       "      <td>7</td>\n",
       "      <td>6</td>\n",
       "    </tr>\n",
       "    <tr>\n",
       "      <th>4</th>\n",
       "      <td>8</td>\n",
       "      <td>8</td>\n",
       "      <td>1</td>\n",
       "    </tr>\n",
       "  </tbody>\n",
       "</table>\n",
       "</div>"
      ],
      "text/plain": [
       "   x  y  z\n",
       "0  5  0  3\n",
       "1  3  7  9\n",
       "2  3  5  2\n",
       "3  4  7  6\n",
       "4  8  8  1"
      ]
     },
     "execution_count": 91,
     "metadata": {},
     "output_type": "execute_result"
    }
   ],
   "source": [
    "df = pd.DataFrame(np_array1, columns = ['x','y','z'])\n",
    "df"
   ]
  },
  {
   "cell_type": "code",
   "execution_count": 82,
   "id": "34880ab3",
   "metadata": {},
   "outputs": [
    {
     "data": {
      "text/plain": [
       "array([[1., 1., 1., ..., 1., 1., 1.],\n",
       "       [1., 1., 1., ..., 1., 1., 1.],\n",
       "       [1., 1., 1., ..., 1., 1., 1.],\n",
       "       ...,\n",
       "       [1., 1., 1., ..., 1., 1., 1.],\n",
       "       [1., 1., 1., ..., 1., 1., 1.],\n",
       "       [1., 1., 1., ..., 1., 1., 1.]])"
      ]
     },
     "execution_count": 82,
     "metadata": {},
     "output_type": "execute_result"
    }
   ],
   "source": [
    "np.ones((100,100))"
   ]
  },
  {
   "cell_type": "code",
   "execution_count": 83,
   "id": "889d7268",
   "metadata": {},
   "outputs": [
    {
     "data": {
      "text/plain": [
       "array([[0, 0, 0, 0],\n",
       "       [0, 0, 0, 0],\n",
       "       [0, 0, 0, 0],\n",
       "       [0, 0, 0, 0],\n",
       "       [0, 0, 0, 0]])"
      ]
     },
     "execution_count": 83,
     "metadata": {},
     "output_type": "execute_result"
    }
   ],
   "source": [
    "np.zeros((5,4), dtype=int)"
   ]
  },
  {
   "cell_type": "code",
   "execution_count": 120,
   "id": "06a1454f",
   "metadata": {},
   "outputs": [
    {
     "data": {
      "text/plain": [
       "array([0.6235637 , 0.38438171, 0.29753461, ..., 0.90736856, 0.12361687,\n",
       "       0.97674556])"
      ]
     },
     "execution_count": 120,
     "metadata": {},
     "output_type": "execute_result"
    }
   ],
   "source": [
    "m_array = np.random.random(100000)\n",
    "m_array"
   ]
  },
  {
   "cell_type": "code",
   "execution_count": 121,
   "id": "97215918",
   "metadata": {},
   "outputs": [
    {
     "data": {
      "text/plain": [
       "100000"
      ]
     },
     "execution_count": 121,
     "metadata": {},
     "output_type": "execute_result"
    }
   ],
   "source": [
    "m_array.size"
   ]
  },
  {
   "cell_type": "code",
   "execution_count": 122,
   "id": "aae74d7d",
   "metadata": {},
   "outputs": [
    {
     "name": "stdout",
     "output_type": "stream",
     "text": [
      "3.85 ms ± 74.7 µs per loop (mean ± std. dev. of 7 runs, 100 loops each)\n"
     ]
    }
   ],
   "source": [
    "%timeit sum(m_array)  # time of execution"
   ]
  },
  {
   "cell_type": "code",
   "execution_count": 128,
   "id": "b77fbda0",
   "metadata": {},
   "outputs": [
    {
     "name": "stdout",
     "output_type": "stream",
     "text": [
      "22.2 µs ± 211 ns per loop (mean ± std. dev. of 7 runs, 10,000 loops each)\n"
     ]
    }
   ],
   "source": [
    "timeit np.sum(m_array)"
   ]
  },
  {
   "cell_type": "code",
   "execution_count": null,
   "id": "798e51b1",
   "metadata": {},
   "outputs": [],
   "source": []
  }
 ],
 "metadata": {
  "kernelspec": {
   "display_name": "Python 3 (ipykernel)",
   "language": "python",
   "name": "python3"
  },
  "language_info": {
   "codemirror_mode": {
    "name": "ipython",
    "version": 3
   },
   "file_extension": ".py",
   "mimetype": "text/x-python",
   "name": "python",
   "nbconvert_exporter": "python",
   "pygments_lexer": "ipython3",
   "version": "3.10.9"
  }
 },
 "nbformat": 4,
 "nbformat_minor": 5
}
